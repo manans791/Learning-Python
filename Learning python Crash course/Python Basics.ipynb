{
 "cells": [
  {
   "cell_type": "markdown",
   "id": "a76c82d5",
   "metadata": {},
   "source": [
    "# Basics of Python\n",
    "* Various Datatypes in python\n",
    "* Variables\n",
    "* Variables assignment"
   ]
  },
  {
   "cell_type": "markdown",
   "id": "05b83b08",
   "metadata": {},
   "source": [
    "# Various Datatypes in python"
   ]
  },
  {
   "cell_type": "markdown",
   "id": "696a83cf",
   "metadata": {},
   "source": [
    "## Numbers"
   ]
  },
  {
   "cell_type": "code",
   "execution_count": 3,
   "id": "762a1216",
   "metadata": {},
   "outputs": [
    {
     "data": {
      "text/plain": [
       "2"
      ]
     },
     "execution_count": 3,
     "metadata": {},
     "output_type": "execute_result"
    }
   ],
   "source": [
    "1+1"
   ]
  },
  {
   "cell_type": "code",
   "execution_count": 4,
   "id": "ed0e7f8d",
   "metadata": {},
   "outputs": [
    {
     "data": {
      "text/plain": [
       "20"
      ]
     },
     "execution_count": 4,
     "metadata": {},
     "output_type": "execute_result"
    }
   ],
   "source": [
    "4*5"
   ]
  },
  {
   "cell_type": "code",
   "execution_count": 5,
   "id": "2d525961",
   "metadata": {},
   "outputs": [
    {
     "data": {
      "text/plain": [
       "20"
      ]
     },
     "execution_count": 5,
     "metadata": {},
     "output_type": "execute_result"
    }
   ],
   "source": [
    "2*10"
   ]
  },
  {
   "cell_type": "code",
   "execution_count": 6,
   "id": "97855d6f",
   "metadata": {},
   "outputs": [
    {
     "data": {
      "text/plain": [
       "5.0"
      ]
     },
     "execution_count": 6,
     "metadata": {},
     "output_type": "execute_result"
    }
   ],
   "source": [
    "10/2"
   ]
  },
  {
   "cell_type": "code",
   "execution_count": 11,
   "id": "2a6ccdb0",
   "metadata": {},
   "outputs": [
    {
     "data": {
      "text/plain": [
       "'STRSTRSTRSTRSTRSTRSTRSTRSTRSTR'"
      ]
     },
     "execution_count": 11,
     "metadata": {},
     "output_type": "execute_result"
    }
   ],
   "source": [
    "10*'STR'"
   ]
  },
  {
   "cell_type": "code",
   "execution_count": 7,
   "id": "95668c2f",
   "metadata": {},
   "outputs": [
    {
     "data": {
      "text/plain": [
       "100"
      ]
     },
     "execution_count": 7,
     "metadata": {},
     "output_type": "execute_result"
    }
   ],
   "source": [
    "10**2"
   ]
  },
  {
   "cell_type": "code",
   "execution_count": 8,
   "id": "a3ea95e7",
   "metadata": {},
   "outputs": [],
   "source": [
    "## Check the Datatypes"
   ]
  },
  {
   "cell_type": "code",
   "execution_count": 12,
   "id": "fa0ebe03",
   "metadata": {},
   "outputs": [
    {
     "data": {
      "text/plain": [
       "int"
      ]
     },
     "execution_count": 12,
     "metadata": {},
     "output_type": "execute_result"
    }
   ],
   "source": [
    "type(1)"
   ]
  },
  {
   "cell_type": "code",
   "execution_count": 13,
   "id": "1a661311",
   "metadata": {},
   "outputs": [
    {
     "data": {
      "text/plain": [
       "str"
      ]
     },
     "execution_count": 13,
     "metadata": {},
     "output_type": "execute_result"
    }
   ],
   "source": [
    "type('Manan')"
   ]
  },
  {
   "cell_type": "code",
   "execution_count": 15,
   "id": "4a66de7f",
   "metadata": {},
   "outputs": [
    {
     "data": {
      "text/plain": [
       "bool"
      ]
     },
     "execution_count": 15,
     "metadata": {},
     "output_type": "execute_result"
    }
   ],
   "source": [
    "type(True)"
   ]
  },
  {
   "cell_type": "code",
   "execution_count": 16,
   "id": "9bf40dd5",
   "metadata": {},
   "outputs": [
    {
     "data": {
      "text/plain": [
       "float"
      ]
     },
     "execution_count": 16,
     "metadata": {},
     "output_type": "execute_result"
    }
   ],
   "source": [
    "type(1021.25)"
   ]
  },
  {
   "cell_type": "markdown",
   "id": "907de714",
   "metadata": {},
   "source": [
    "## String"
   ]
  },
  {
   "cell_type": "code",
   "execution_count": 17,
   "id": "e60145f5",
   "metadata": {},
   "outputs": [
    {
     "data": {
      "text/plain": [
       "'Hello'"
      ]
     },
     "execution_count": 17,
     "metadata": {},
     "output_type": "execute_result"
    }
   ],
   "source": [
    "\"Hello\""
   ]
  },
  {
   "cell_type": "code",
   "execution_count": 18,
   "id": "0ac6e1be",
   "metadata": {},
   "outputs": [
    {
     "data": {
      "text/plain": [
       "'Manan Sharma'"
      ]
     },
     "execution_count": 18,
     "metadata": {},
     "output_type": "execute_result"
    }
   ],
   "source": [
    "'Manan Sharma'"
   ]
  },
  {
   "cell_type": "code",
   "execution_count": 19,
   "id": "463929da",
   "metadata": {},
   "outputs": [
    {
     "data": {
      "text/plain": [
       "str"
      ]
     },
     "execution_count": 19,
     "metadata": {},
     "output_type": "execute_result"
    }
   ],
   "source": [
    "type('Manan Sharma')"
   ]
  },
  {
   "cell_type": "markdown",
   "id": "6c281650",
   "metadata": {},
   "source": [
    "## Variable Assignment"
   ]
  },
  {
   "cell_type": "code",
   "execution_count": 21,
   "id": "e2e4d162",
   "metadata": {},
   "outputs": [],
   "source": [
    "#syntax \n",
    "# var_name=values\n",
    "\n",
    "a=10\n"
   ]
  },
  {
   "cell_type": "code",
   "execution_count": 22,
   "id": "545296b1",
   "metadata": {},
   "outputs": [
    {
     "data": {
      "text/plain": [
       "int"
      ]
     },
     "execution_count": 22,
     "metadata": {},
     "output_type": "execute_result"
    }
   ],
   "source": [
    "type(a)"
   ]
  },
  {
   "cell_type": "code",
   "execution_count": 32,
   "id": "5a5e9b8d",
   "metadata": {},
   "outputs": [],
   "source": [
    "b=40\n"
   ]
  },
  {
   "cell_type": "code",
   "execution_count": 33,
   "id": "f11f2ce8",
   "metadata": {},
   "outputs": [
    {
     "data": {
      "text/plain": [
       "int"
      ]
     },
     "execution_count": 33,
     "metadata": {},
     "output_type": "execute_result"
    }
   ],
   "source": [
    "type(b)"
   ]
  },
  {
   "cell_type": "code",
   "execution_count": 34,
   "id": "328342b0",
   "metadata": {},
   "outputs": [
    {
     "name": "stdout",
     "output_type": "stream",
     "text": [
      "50\n",
      "-30\n",
      "400\n",
      "0.25\n"
     ]
    }
   ],
   "source": [
    "print(a+b)\n",
    "print(a-b)\n",
    "print(a*b)\n",
    "print(a/b) \n",
    "\n",
    "#BODMAS (Bracket,of,Multiply,Addition,Subtraction)"
   ]
  },
  {
   "cell_type": "code",
   "execution_count": 35,
   "id": "98b347ee",
   "metadata": {},
   "outputs": [],
   "source": [
    "# Various types of Printing"
   ]
  },
  {
   "cell_type": "code",
   "execution_count": 36,
   "id": "a05aefca",
   "metadata": {},
   "outputs": [
    {
     "name": "stdout",
     "output_type": "stream",
     "text": [
      "Hellow\n"
     ]
    }
   ],
   "source": [
    "print('Hellow')"
   ]
  },
  {
   "cell_type": "code",
   "execution_count": 37,
   "id": "adb28c18",
   "metadata": {},
   "outputs": [
    {
     "name": "stdout",
     "output_type": "stream",
     "text": [
      "My first name is Manan and last name is Sharma\n"
     ]
    }
   ],
   "source": [
    "first_name=\"Manan\"\n",
    "last_name=\"Sharma\"\n",
    "\n",
    "print(\"My first name is {} and last name is {}\" .format(first_name,last_name))"
   ]
  },
  {
   "cell_type": "code",
   "execution_count": 41,
   "id": "ebe29127",
   "metadata": {},
   "outputs": [
    {
     "name": "stdout",
     "output_type": "stream",
     "text": [
      "My first name is Manan and last name is Sharma\n"
     ]
    }
   ],
   "source": [
    "print(\"My first name is {first} and last name is {last}\" .format(first=first_name,last=last_name))"
   ]
  },
  {
   "cell_type": "code",
   "execution_count": 42,
   "id": "7bd0a06a",
   "metadata": {},
   "outputs": [
    {
     "data": {
      "text/plain": [
       "12"
      ]
     },
     "execution_count": 42,
     "metadata": {},
     "output_type": "execute_result"
    }
   ],
   "source": [
    "len('Manan Sharma')"
   ]
  },
  {
   "cell_type": "code",
   "execution_count": 43,
   "id": "25552c12",
   "metadata": {},
   "outputs": [
    {
     "data": {
      "text/plain": [
       "5"
      ]
     },
     "execution_count": 43,
     "metadata": {},
     "output_type": "execute_result"
    }
   ],
   "source": [
    "len('Manan')"
   ]
  },
  {
   "cell_type": "code",
   "execution_count": 44,
   "id": "b22b6228",
   "metadata": {},
   "outputs": [
    {
     "ename": "SyntaxError",
     "evalue": "EOL while scanning string literal (Temp/ipykernel_8788/1289983339.py, line 1)",
     "output_type": "error",
     "traceback": [
      "\u001b[1;36m  File \u001b[1;32m\"C:\\Users\\admin\\AppData\\Local\\Temp/ipykernel_8788/1289983339.py\"\u001b[1;36m, line \u001b[1;32m1\u001b[0m\n\u001b[1;33m    type('[12,15,26,48])\u001b[0m\n\u001b[1;37m                        ^\u001b[0m\n\u001b[1;31mSyntaxError\u001b[0m\u001b[1;31m:\u001b[0m EOL while scanning string literal\n"
     ]
    }
   ],
   "source": [
    "type('[12,15,26,48])"
   ]
  },
  {
   "cell_type": "code",
   "execution_count": null,
   "id": "aa086e3b",
   "metadata": {},
   "outputs": [],
   "source": []
  }
 ],
 "metadata": {
  "kernelspec": {
   "display_name": "Python 3 (ipykernel)",
   "language": "python",
   "name": "python3"
  },
  "language_info": {
   "codemirror_mode": {
    "name": "ipython",
    "version": 3
   },
   "file_extension": ".py",
   "mimetype": "text/x-python",
   "name": "python",
   "nbconvert_exporter": "python",
   "pygments_lexer": "ipython3",
   "version": "3.9.7"
  }
 },
 "nbformat": 4,
 "nbformat_minor": 5
}
