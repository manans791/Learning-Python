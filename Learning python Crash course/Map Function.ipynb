{
 "cells": [
  {
   "cell_type": "markdown",
   "id": "2de0eb11",
   "metadata": {},
   "source": [
    "## Map Function"
   ]
  },
  {
   "cell_type": "code",
   "execution_count": 6,
   "id": "b59c3574",
   "metadata": {},
   "outputs": [],
   "source": [
    "def even_or_odd(num):\n",
    "    if num%2==0:\n",
    "        return \"The number {} is even\".format(num)\n",
    "    else:\n",
    "        return \"The number {} is Odd\".format(num)"
   ]
  },
  {
   "cell_type": "code",
   "execution_count": 7,
   "id": "48d36205",
   "metadata": {},
   "outputs": [
    {
     "data": {
      "text/plain": [
       "'The number 12 is even'"
      ]
     },
     "execution_count": 7,
     "metadata": {},
     "output_type": "execute_result"
    }
   ],
   "source": [
    "even_or_odd(12)"
   ]
  },
  {
   "cell_type": "code",
   "execution_count": 8,
   "id": "3b214f95",
   "metadata": {},
   "outputs": [],
   "source": [
    "lst=[1,2,3,4,56,4,7,5,151,84,8,5,48,4]"
   ]
  },
  {
   "cell_type": "code",
   "execution_count": 12,
   "id": "c1acf519",
   "metadata": {},
   "outputs": [
    {
     "data": {
      "text/plain": [
       "['The number 1 is Odd',\n",
       " 'The number 2 is even',\n",
       " 'The number 3 is Odd',\n",
       " 'The number 4 is even',\n",
       " 'The number 56 is even',\n",
       " 'The number 4 is even',\n",
       " 'The number 7 is Odd',\n",
       " 'The number 5 is Odd',\n",
       " 'The number 151 is Odd',\n",
       " 'The number 84 is even',\n",
       " 'The number 8 is even',\n",
       " 'The number 5 is Odd',\n",
       " 'The number 48 is even',\n",
       " 'The number 4 is even']"
      ]
     },
     "execution_count": 12,
     "metadata": {},
     "output_type": "execute_result"
    }
   ],
   "source": [
    "list(map(even_or_odd,lst))"
   ]
  },
  {
   "cell_type": "code",
   "execution_count": null,
   "id": "34370479",
   "metadata": {},
   "outputs": [],
   "source": []
  }
 ],
 "metadata": {
  "kernelspec": {
   "display_name": "Python 3 (ipykernel)",
   "language": "python",
   "name": "python3"
  },
  "language_info": {
   "codemirror_mode": {
    "name": "ipython",
    "version": 3
   },
   "file_extension": ".py",
   "mimetype": "text/x-python",
   "name": "python",
   "nbconvert_exporter": "python",
   "pygments_lexer": "ipython3",
   "version": "3.9.7"
  }
 },
 "nbformat": 4,
 "nbformat_minor": 5
}
