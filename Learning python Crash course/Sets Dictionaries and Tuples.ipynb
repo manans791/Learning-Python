{
 "cells": [
  {
   "cell_type": "markdown",
   "id": "7ba362ee",
   "metadata": {},
   "source": [
    "## Sets"
   ]
  },
  {
   "cell_type": "markdown",
   "id": "b3a70619",
   "metadata": {},
   "source": [
    "A Set is an unordered collection data type that is iterable, mutable, and has no duplicate elements. Python's set class represents the mathematical notion of a set.This is based on a data structure known as a hash table"
   ]
  },
  {
   "cell_type": "code",
   "execution_count": 3,
   "id": "49708471",
   "metadata": {},
   "outputs": [
    {
     "name": "stdout",
     "output_type": "stream",
     "text": [
      "set()\n",
      "<class 'set'>\n"
     ]
    }
   ],
   "source": [
    "set_var= set()\n",
    "print(set_var)\n",
    "print(type(set_var))"
   ]
  },
  {
   "cell_type": "code",
   "execution_count": 6,
   "id": "95d5998d",
   "metadata": {},
   "outputs": [
    {
     "data": {
      "text/plain": [
       "{1, 2, 3, 4, 5}"
      ]
     },
     "execution_count": 6,
     "metadata": {},
     "output_type": "execute_result"
    }
   ],
   "source": [
    "set_var={1,2,3,4,5}\n",
    "set_var"
   ]
  },
  {
   "cell_type": "code",
   "execution_count": 7,
   "id": "362247f1",
   "metadata": {},
   "outputs": [
    {
     "name": "stdout",
     "output_type": "stream",
     "text": [
      "{'Hitman', 'Avengers', 'Ironman'}\n",
      "<class 'set'>\n"
     ]
    }
   ],
   "source": [
    "set_var={\"Avengers\",\"Ironman\",\"Hitman\"}\n",
    "print(set_var)\n",
    "print(type(set_var))"
   ]
  },
  {
   "cell_type": "code",
   "execution_count": 8,
   "id": "d4fb759b",
   "metadata": {},
   "outputs": [],
   "source": [
    "# inbuilt function in sets\n",
    "set_var.add(\"Hulk\")"
   ]
  },
  {
   "cell_type": "code",
   "execution_count": 9,
   "id": "9d7b3f53",
   "metadata": {},
   "outputs": [
    {
     "data": {
      "text/plain": [
       "{'Avengers', 'Hitman', 'Hulk', 'Ironman'}"
      ]
     },
     "execution_count": 9,
     "metadata": {},
     "output_type": "execute_result"
    }
   ],
   "source": [
    "set_var"
   ]
  },
  {
   "cell_type": "code",
   "execution_count": 10,
   "id": "15c833a2",
   "metadata": {},
   "outputs": [],
   "source": [
    "set1={\"Avengers\",\"IronMan\",'Hitman'}\n",
    "set2={\"Avengers\",\"IronMan\",'Hitman','Hulk2'}"
   ]
  },
  {
   "cell_type": "code",
   "execution_count": 11,
   "id": "d1d0e89a",
   "metadata": {},
   "outputs": [
    {
     "data": {
      "text/plain": [
       "{'Hulk2'}"
      ]
     },
     "execution_count": 11,
     "metadata": {},
     "output_type": "execute_result"
    }
   ],
   "source": [
    "#difference\n",
    "set2.difference(set1)"
   ]
  },
  {
   "cell_type": "code",
   "execution_count": 14,
   "id": "f456439a",
   "metadata": {},
   "outputs": [],
   "source": [
    "set2.difference_update(set1)"
   ]
  },
  {
   "cell_type": "code",
   "execution_count": 15,
   "id": "d8504caa",
   "metadata": {},
   "outputs": [
    {
     "data": {
      "text/plain": [
       "{'Hulk2'}"
      ]
     },
     "execution_count": 15,
     "metadata": {},
     "output_type": "execute_result"
    }
   ],
   "source": [
    "set2"
   ]
  },
  {
   "cell_type": "markdown",
   "id": "92b547a7",
   "metadata": {},
   "source": [
    "## Dictionaries\n"
   ]
  },
  {
   "cell_type": "markdown",
   "id": "ff71fa46",
   "metadata": {},
   "source": [
    "A dictionary is a collection which is unordered, changeable and indexed. In Python dictionaries are written with curly brackets, and they have keys and values.\n",
    "\n"
   ]
  },
  {
   "cell_type": "code",
   "execution_count": 16,
   "id": "bacd289c",
   "metadata": {},
   "outputs": [],
   "source": [
    "disc={}"
   ]
  },
  {
   "cell_type": "code",
   "execution_count": 18,
   "id": "26da3ce2",
   "metadata": {},
   "outputs": [
    {
     "data": {
      "text/plain": [
       "dict"
      ]
     },
     "execution_count": 18,
     "metadata": {},
     "output_type": "execute_result"
    }
   ],
   "source": [
    "type(disc)"
   ]
  },
  {
   "cell_type": "code",
   "execution_count": 19,
   "id": "618af504",
   "metadata": {},
   "outputs": [
    {
     "data": {
      "text/plain": [
       "dict"
      ]
     },
     "execution_count": 19,
     "metadata": {},
     "output_type": "execute_result"
    }
   ],
   "source": [
    "type(dict())"
   ]
  },
  {
   "cell_type": "code",
   "execution_count": 20,
   "id": "413f1515",
   "metadata": {},
   "outputs": [],
   "source": [
    "set_ex={1,2,3,4,5}"
   ]
  },
  {
   "cell_type": "code",
   "execution_count": 21,
   "id": "2672f62f",
   "metadata": {},
   "outputs": [
    {
     "data": {
      "text/plain": [
       "set"
      ]
     },
     "execution_count": 21,
     "metadata": {},
     "output_type": "execute_result"
    }
   ],
   "source": [
    "type(set_ex)"
   ]
  },
  {
   "cell_type": "code",
   "execution_count": 22,
   "id": "44edd3da",
   "metadata": {},
   "outputs": [],
   "source": [
    "## Let create a dictionary\n",
    "\n",
    "my_dict={\"car 1\":\"Audi\",\"car 2\":\"Maruti\",\"car 3\":\"Alto\"}"
   ]
  },
  {
   "cell_type": "code",
   "execution_count": 23,
   "id": "3787592d",
   "metadata": {},
   "outputs": [
    {
     "data": {
      "text/plain": [
       "{'car 1': 'Audi', 'car 2': 'Maruti', 'car 3': 'Alto'}"
      ]
     },
     "execution_count": 23,
     "metadata": {},
     "output_type": "execute_result"
    }
   ],
   "source": [
    "my_dict"
   ]
  },
  {
   "cell_type": "code",
   "execution_count": 28,
   "id": "a77740e7",
   "metadata": {},
   "outputs": [
    {
     "data": {
      "text/plain": [
       "dict"
      ]
     },
     "execution_count": 28,
     "metadata": {},
     "output_type": "execute_result"
    }
   ],
   "source": [
    "type(my_dict)"
   ]
  },
  {
   "cell_type": "code",
   "execution_count": 31,
   "id": "78d3879f",
   "metadata": {},
   "outputs": [
    {
     "data": {
      "text/plain": [
       "'Maruti'"
      ]
     },
     "execution_count": 31,
     "metadata": {},
     "output_type": "execute_result"
    }
   ],
   "source": [
    "##Access the item values based on keys\n",
    "my_dict['car 2'] \n"
   ]
  },
  {
   "cell_type": "code",
   "execution_count": 32,
   "id": "97e252c0",
   "metadata": {},
   "outputs": [
    {
     "data": {
      "text/plain": [
       "'Alto'"
      ]
     },
     "execution_count": 32,
     "metadata": {},
     "output_type": "execute_result"
    }
   ],
   "source": [
    "my_dict[\"car 3\"]"
   ]
  },
  {
   "cell_type": "code",
   "execution_count": 33,
   "id": "032cb314",
   "metadata": {},
   "outputs": [
    {
     "name": "stdout",
     "output_type": "stream",
     "text": [
      "car 1\n",
      "car 2\n",
      "car 3\n"
     ]
    }
   ],
   "source": [
    "# We can even loop throught the dictionaries keys\n",
    "for x in my_dict:\n",
    "    print(x)"
   ]
  },
  {
   "cell_type": "code",
   "execution_count": 35,
   "id": "25497a66",
   "metadata": {},
   "outputs": [
    {
     "name": "stdout",
     "output_type": "stream",
     "text": [
      "Audi\n",
      "Maruti\n",
      "Alto\n"
     ]
    }
   ],
   "source": [
    "for x in my_dict.values():\n",
    "    print(x)"
   ]
  },
  {
   "cell_type": "code",
   "execution_count": 36,
   "id": "a9ef3f03",
   "metadata": {},
   "outputs": [
    {
     "name": "stdout",
     "output_type": "stream",
     "text": [
      "('car 1', 'Audi')\n",
      "('car 2', 'Maruti')\n",
      "('car 3', 'Alto')\n"
     ]
    }
   ],
   "source": [
    "# We can also check both keys and values\n",
    "for x in my_dict.items():\n",
    "    print(x)\n",
    "    "
   ]
  },
  {
   "cell_type": "code",
   "execution_count": 37,
   "id": "ae8f9058",
   "metadata": {},
   "outputs": [],
   "source": [
    "## Adding items in Dictionaries\n",
    "\n",
    "my_dict['car 4 ']= 'Jeep'"
   ]
  },
  {
   "cell_type": "code",
   "execution_count": 38,
   "id": "48a5ccf6",
   "metadata": {},
   "outputs": [
    {
     "data": {
      "text/plain": [
       "{'car 1': 'Audi', 'car 2': 'Maruti', 'car 3': 'Alto', 'car 4 ': 'Jeep'}"
      ]
     },
     "execution_count": 38,
     "metadata": {},
     "output_type": "execute_result"
    }
   ],
   "source": [
    "my_dict"
   ]
  },
  {
   "cell_type": "markdown",
   "id": "cb8e5ee0",
   "metadata": {},
   "source": [
    "## Tuples"
   ]
  },
  {
   "cell_type": "code",
   "execution_count": 39,
   "id": "4a64c199",
   "metadata": {},
   "outputs": [],
   "source": [
    "## create an empty Tuples\n",
    "my_tuple=tuple()"
   ]
  },
  {
   "cell_type": "code",
   "execution_count": 40,
   "id": "61a1ba15",
   "metadata": {},
   "outputs": [
    {
     "data": {
      "text/plain": [
       "()"
      ]
     },
     "execution_count": 40,
     "metadata": {},
     "output_type": "execute_result"
    }
   ],
   "source": [
    "my_tuple"
   ]
  },
  {
   "cell_type": "code",
   "execution_count": 41,
   "id": "fc7c2113",
   "metadata": {},
   "outputs": [
    {
     "data": {
      "text/plain": [
       "tuple"
      ]
     },
     "execution_count": 41,
     "metadata": {},
     "output_type": "execute_result"
    }
   ],
   "source": [
    "type(my_tuple)"
   ]
  },
  {
   "cell_type": "code",
   "execution_count": 42,
   "id": "d2357755",
   "metadata": {},
   "outputs": [
    {
     "name": "stdout",
     "output_type": "stream",
     "text": [
      "<class 'tuple'>\n",
      "('Krish', 'Ankur', 'John')\n"
     ]
    }
   ],
   "source": [
    "my_tuple=(\"Krish\",\"Ankur\",\"John\")\n",
    "print(type(my_tuple))\n",
    "print(my_tuple)"
   ]
  },
  {
   "cell_type": "code",
   "execution_count": 43,
   "id": "e8725379",
   "metadata": {},
   "outputs": [
    {
     "data": {
      "text/plain": [
       "1"
      ]
     },
     "execution_count": 43,
     "metadata": {},
     "output_type": "execute_result"
    }
   ],
   "source": [
    "## Inbuilt function\n",
    "my_tuple.count('John')"
   ]
  },
  {
   "cell_type": "code",
   "execution_count": 45,
   "id": "62b4c908",
   "metadata": {},
   "outputs": [
    {
     "data": {
      "text/plain": [
       "2"
      ]
     },
     "execution_count": 45,
     "metadata": {},
     "output_type": "execute_result"
    }
   ],
   "source": [
    "my_tuple.index('John')\n"
   ]
  },
  {
   "cell_type": "code",
   "execution_count": null,
   "id": "c1048f55",
   "metadata": {},
   "outputs": [],
   "source": []
  }
 ],
 "metadata": {
  "kernelspec": {
   "display_name": "Python 3 (ipykernel)",
   "language": "python",
   "name": "python3"
  },
  "language_info": {
   "codemirror_mode": {
    "name": "ipython",
    "version": 3
   },
   "file_extension": ".py",
   "mimetype": "text/x-python",
   "name": "python",
   "nbconvert_exporter": "python",
   "pygments_lexer": "ipython3",
   "version": "3.9.7"
  }
 },
 "nbformat": 4,
 "nbformat_minor": 5
}
