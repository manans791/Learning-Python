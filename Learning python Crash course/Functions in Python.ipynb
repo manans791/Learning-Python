{
 "cells": [
  {
   "cell_type": "markdown",
   "id": "3d4d43c7",
   "metadata": {},
   "source": [
    "## Functions in Python"
   ]
  },
  {
   "cell_type": "markdown",
   "id": "0d817be5",
   "metadata": {},
   "source": [
    "- Why Functions\n",
    "- Functions Definition\n",
    "- Positional and Kryword Arguments in Functions"
   ]
  },
  {
   "cell_type": "code",
   "execution_count": 3,
   "id": "d1e70e98",
   "metadata": {},
   "outputs": [
    {
     "name": "stdout",
     "output_type": "stream",
     "text": [
      "Number is even\n"
     ]
    }
   ],
   "source": [
    "num=24\n",
    "\n",
    "if num%2==0:\n",
    "        print('Number is even')\n",
    "else:\n",
    "    print('Number is odd')"
   ]
  },
  {
   "cell_type": "code",
   "execution_count": 6,
   "id": "38cb8107",
   "metadata": {},
   "outputs": [],
   "source": [
    "def odd_even(num):          ## Normal function with an argument\n",
    "    if num%2==0:\n",
    "        print('Number is even')\n",
    "    else:\n",
    "        print('Number is odd')"
   ]
  },
  {
   "cell_type": "code",
   "execution_count": 5,
   "id": "0e35fdb5",
   "metadata": {},
   "outputs": [
    {
     "name": "stdout",
     "output_type": "stream",
     "text": [
      "Number is even\n"
     ]
    }
   ],
   "source": [
    "odd_even(40)"
   ]
  },
  {
   "cell_type": "code",
   "execution_count": 7,
   "id": "9c1f0a40",
   "metadata": {},
   "outputs": [],
   "source": [
    "#print vs return\n",
    "\n",
    "def hello_world():\n",
    "    print(\"Hello Welcome\")"
   ]
  },
  {
   "cell_type": "code",
   "execution_count": 10,
   "id": "c98ba85b",
   "metadata": {},
   "outputs": [
    {
     "name": "stdout",
     "output_type": "stream",
     "text": [
      "Hello Welcome\n"
     ]
    }
   ],
   "source": [
    "val=hello_world()"
   ]
  },
  {
   "cell_type": "code",
   "execution_count": 12,
   "id": "8f6c1bb9",
   "metadata": {},
   "outputs": [
    {
     "name": "stdout",
     "output_type": "stream",
     "text": [
      "None\n"
     ]
    }
   ],
   "source": [
    "print(val)"
   ]
  },
  {
   "cell_type": "code",
   "execution_count": 13,
   "id": "f1cd50a7",
   "metadata": {},
   "outputs": [],
   "source": [
    "def hello_world():\n",
    "    return(\"Hello Welcome\")"
   ]
  },
  {
   "cell_type": "code",
   "execution_count": 14,
   "id": "76b7d63d",
   "metadata": {},
   "outputs": [],
   "source": [
    "val=hello_world()"
   ]
  },
  {
   "cell_type": "code",
   "execution_count": 16,
   "id": "174335c1",
   "metadata": {},
   "outputs": [
    {
     "name": "stdout",
     "output_type": "stream",
     "text": [
      "Hello Welcome\n"
     ]
    }
   ],
   "source": [
    "print(val)"
   ]
  },
  {
   "cell_type": "code",
   "execution_count": 17,
   "id": "c0933d31",
   "metadata": {},
   "outputs": [],
   "source": [
    "def add_number(num1,num2):\n",
    "    return num1+num2"
   ]
  },
  {
   "cell_type": "code",
   "execution_count": 18,
   "id": "aa9f417c",
   "metadata": {},
   "outputs": [],
   "source": [
    "val=add_number(24,48)"
   ]
  },
  {
   "cell_type": "code",
   "execution_count": 19,
   "id": "dcf65c79",
   "metadata": {},
   "outputs": [
    {
     "name": "stdout",
     "output_type": "stream",
     "text": [
      "72\n"
     ]
    }
   ],
   "source": [
    "print(val)"
   ]
  },
  {
   "cell_type": "markdown",
   "id": "600fb913",
   "metadata": {},
   "source": [
    "Positional and keyword argument"
   ]
  },
  {
   "cell_type": "code",
   "execution_count": 30,
   "id": "4aaca258",
   "metadata": {},
   "outputs": [],
   "source": [
    "def hello(name,age=21):       ## name is positional argument , age=29 is key value argument\n",
    "    print('My name is {} and age is {}'.format(name,age))"
   ]
  },
  {
   "cell_type": "code",
   "execution_count": 28,
   "id": "a6f391d0",
   "metadata": {},
   "outputs": [
    {
     "name": "stdout",
     "output_type": "stream",
     "text": [
      "My name is Manan and age is 21\n"
     ]
    }
   ],
   "source": [
    "hello('Manan')"
   ]
  },
  {
   "cell_type": "code",
   "execution_count": 31,
   "id": "17509c90",
   "metadata": {},
   "outputs": [
    {
     "name": "stdout",
     "output_type": "stream",
     "text": [
      "My name is Raghav and age is 52\n"
     ]
    }
   ],
   "source": [
    "hello(\"Raghav\",52)"
   ]
  },
  {
   "cell_type": "code",
   "execution_count": 32,
   "id": "612c5566",
   "metadata": {},
   "outputs": [],
   "source": [
    "def hello(*args,**kwargs):\n",
    "    print(args)\n",
    "    print(kwargs)"
   ]
  },
  {
   "cell_type": "code",
   "execution_count": 33,
   "id": "1d7628b7",
   "metadata": {},
   "outputs": [
    {
     "name": "stdout",
     "output_type": "stream",
     "text": [
      "('Manan', 'Sharma')\n",
      "{'age': 29, 'dob': 2000}\n"
     ]
    }
   ],
   "source": [
    "hello(\"Manan\",\"Sharma\",age=29,dob=2000)"
   ]
  },
  {
   "cell_type": "code",
   "execution_count": 62,
   "id": "1610878d",
   "metadata": {},
   "outputs": [],
   "source": [
    "lst=[1,2,3,4,5,6,7]"
   ]
  },
  {
   "cell_type": "code",
   "execution_count": 63,
   "id": "dc73e1e7",
   "metadata": {},
   "outputs": [],
   "source": [
    "def evenoddsum(val):\n",
    "    even_sum=0\n",
    "    odd_sum=0\n",
    "    for i in lst:\n",
    "        if i%2==0:\n",
    "            even_sum=even_sum+i\n",
    "        else:\n",
    "            odd_sum=odd_sum+i\n",
    "    return even_sum,odd_sum"
   ]
  },
  {
   "cell_type": "code",
   "execution_count": 64,
   "id": "5bb69b1c",
   "metadata": {},
   "outputs": [],
   "source": [
    "val=[1,2,3,4,5,6,7,8]"
   ]
  },
  {
   "cell_type": "code",
   "execution_count": 61,
   "id": "0851cb49",
   "metadata": {},
   "outputs": [
    {
     "name": "stdout",
     "output_type": "stream",
     "text": [
      "(0, 1)\n"
     ]
    }
   ],
   "source": [
    "print(evensum(val))"
   ]
  },
  {
   "cell_type": "code",
   "execution_count": null,
   "id": "85f71bd1",
   "metadata": {},
   "outputs": [],
   "source": []
  },
  {
   "cell_type": "code",
   "execution_count": null,
   "id": "bb84be0b",
   "metadata": {},
   "outputs": [],
   "source": []
  }
 ],
 "metadata": {
  "kernelspec": {
   "display_name": "Python 3 (ipykernel)",
   "language": "python",
   "name": "python3"
  },
  "language_info": {
   "codemirror_mode": {
    "name": "ipython",
    "version": 3
   },
   "file_extension": ".py",
   "mimetype": "text/x-python",
   "name": "python",
   "nbconvert_exporter": "python",
   "pygments_lexer": "ipython3",
   "version": "3.9.7"
  }
 },
 "nbformat": 4,
 "nbformat_minor": 5
}
